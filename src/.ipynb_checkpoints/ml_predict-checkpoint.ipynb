{
 "cells": [
  {
   "cell_type": "code",
   "execution_count": 49,
   "metadata": {},
   "outputs": [],
   "source": [
    "import numpy as np\n",
    "import pandas as pd\n",
    "from sklearn.preprocessing import OrdinalEncoder, OneHotEncoder, MinMaxScaler, StandardScaler\n",
    "import matplotlib.pyplot as plt\n",
    "import datetime as dt\n",
    "from sklearn.metrics import accuracy_score\n",
    "from sklearn.model_selection import StratifiedKFold\n",
    "from sklearn.metrics import make_scorer\n",
    "from sklearn.model_selection import train_test_split\n",
    "from sklearn.linear_model import LogisticRegression\n",
    "from sklearn.ensemble import RandomForestRegressor\n",
    "from sklearn.model_selection import KFold\n",
    "from sklearn.metrics import mean_squared_error"
   ]
  },
  {
   "cell_type": "code",
   "execution_count": 66,
   "metadata": {},
   "outputs": [],
   "source": [
    "df = pd.read_csv(\"../data/record_df.csv\")"
   ]
  },
  {
   "cell_type": "code",
   "execution_count": 67,
   "metadata": {},
   "outputs": [
    {
     "data": {
      "text/plain": [
       "(121049, 37)"
      ]
     },
     "execution_count": 67,
     "metadata": {},
     "output_type": "execute_result"
    }
   ],
   "source": [
    "drop = [\"Unnamed: 0\",\"IDLink\",\"Source\",\"PublishDate\"]\n",
    "dfn = df.drop(drop,1)\n",
    "\n",
    "logmarker = [\"sum-tpop-\", \"sum-tavg-\",\"POPU\",\"sum-popu\",\"last-popu\"]\n",
    "for i in dfn.columns:\n",
    "    for j in logmarker:\n",
    "        if j in i:\n",
    "            dfn[i] = np.log(2+dfn[i].values)\n",
    "            \n",
    "dfn.shape"
   ]
  },
  {
   "cell_type": "code",
   "execution_count": 73,
   "metadata": {},
   "outputs": [
    {
     "name": "stdout",
     "output_type": "stream",
     "text": [
      "(3412, 37)\n"
     ]
    }
   ],
   "source": [
    "dfn = dfn[dfn[\"POPU\"]>5]\n",
    "print(dfn.shape)\n",
    "X, y = dfn.drop(['POPU'],1).values,dfn['POPU'].values"
   ]
  },
  {
   "cell_type": "code",
   "execution_count": 76,
   "metadata": {},
   "outputs": [],
   "source": [
    "def ML_pipeline_kfold(X,y,random_state,n_folds):\n",
    "    # split the data\n",
    "    X_other, X_test, y_other, y_test = train_test_split(X, y, test_size=0.2, random_state = random_state)\n",
    "    CV_scores = []\n",
    "    test_scores = []\n",
    "    # k folds - each fold will give us a CV and a test score\n",
    "    kf = KFold(n_splits=n_folds,shuffle=True,random_state=random_state)\n",
    "    \n",
    "    for train_index, CV_index in kf.split(X_other,y_other):\n",
    "\n",
    "        X_train, X_CV = X_other[train_index], X_other[CV_index]\n",
    "        y_train, y_CV = y_other[train_index], y_other[CV_index]\n",
    "        # preprocessing\n",
    "        mmx_ft = np.arange(3,36)\n",
    "        ohe_ft = [0]\n",
    "        kpt_ft = [1,2]\n",
    "        \n",
    "        scaler = MinMaxScaler()\n",
    "        X_train_mmx = scaler.fit_transform(X_train[:,mmx_ft])\n",
    "        X_c_mmx = scaler.transform(X_CV[:,mmx_ft])\n",
    "        X_t_mmx = scaler.transform(X_test[:,mmx_ft])\n",
    "        \n",
    "        ohe = OneHotEncoder(sparse=False, handle_unknown=\"ignore\")\n",
    "        X_train_ohe = ohe.fit_transform(X_train[:,ohe_ft])\n",
    "        X_c_ohe = ohe.transform(X_CV[:,ohe_ft])\n",
    "        X_t_ohe = ohe.transform(X_test[:,ohe_ft])\n",
    "        \n",
    "        X_train = np.concatenate((X_train_mmx, X_train_ohe, X_train[:,kpt_ft]),axis=1)\n",
    "        X_c = np.concatenate((X_c_mmx, X_c_ohe, X_CV[:,kpt_ft]),axis=1)\n",
    "        X_t = np.concatenate((X_t_mmx, X_t_ohe, X_test[:,kpt_ft]),axis=1)\n",
    "        \n",
    "        # tune ridge hyper-parameter, alpha\n",
    "        mds = np.arange(3,5)\n",
    "        train_score = []\n",
    "        CV_score = []\n",
    "        regs = []\n",
    "        for md in mds:\n",
    "            reg = RandomForestRegressor(max_depth = md, n_estimators = 100)\n",
    "            reg.fit(X_train,y_train)\n",
    "            train_score.append(mean_squared_error(y_train,reg.predict(X_train)))\n",
    "            CV_score.append(mean_squared_error(y_CV,reg.predict(X_c)))\n",
    "            regs.append(reg)\n",
    "        # find the best alpha in this fold\n",
    "        CV_score = np.array(CV_score)\n",
    "        best_c = mds[np.argmin(CV_score)]\n",
    "        # grab the best model\n",
    "        reg = regs[np.argmin(CV_score)]\n",
    "        CV_scores.append(np.min(CV_score))\n",
    "        # calculate test score using thee best model\n",
    "        test_scores.append(mean_squared_error(y_test,reg.predict(X_t)))\n",
    "        print(reg.feature_importances)\n",
    "#         plt.figure()\n",
    "#         plt.scatter(y_test,reg.predict(X_t))\n",
    "    return CV_scores,test_scores, best_c\n",
    "\n",
    "#ML_pipeline_kfold(dfn.drop(['POPU'],1).values, dfn['POPU'].values,42,5)"
   ]
  },
  {
   "cell_type": "code",
   "execution_count": null,
   "metadata": {},
   "outputs": [
    {
     "name": "stdout",
     "output_type": "stream",
     "text": [
      "best_maxdepth is :  4 avg_MSE is :  0.37\n",
      "best_maxdepth is :  4 avg_MSE is :  0.38\n",
      "best_maxdepth is :  4 avg_MSE is :  0.38\n",
      "best_maxdepth is :  4 avg_MSE is :  0.39\n",
      "best_maxdepth is :  4 avg_MSE is :  0.41\n",
      "best_maxdepth is :  4 avg_MSE is :  0.37\n",
      "best_maxdepth is :  4 avg_MSE is :  0.38\n",
      "best_maxdepth is :  4 avg_MSE is :  0.36\n"
     ]
    }
   ],
   "source": [
    "test_scores = []\n",
    "for rs in range(1,11):\n",
    "    cv_score, test_score, best_c = ML_pipeline_kfold(X, y ,rs * 42, 5)\n",
    "    test_scores.append(test_score)\n",
    "    print(\"best_maxdepth is : \", best_c, \"avg_MSE is : \", round(np.mean(test_score),2))\n",
    "print('MSE :',np.around(np.mean(test_scores),2),'+/-',np.around(np.std(test_scores),2))"
   ]
  },
  {
   "cell_type": "code",
   "execution_count": 71,
   "metadata": {},
   "outputs": [
    {
     "data": {
      "text/plain": [
       "1.9570162652745657"
      ]
     },
     "execution_count": 71,
     "metadata": {},
     "output_type": "execute_result"
    }
   ],
   "source": [
    "np.var(y-np.mean(y))"
   ]
  },
  {
   "cell_type": "code",
   "execution_count": null,
   "metadata": {},
   "outputs": [],
   "source": []
  }
 ],
 "metadata": {
  "kernelspec": {
   "display_name": "Python 3",
   "language": "python",
   "name": "python3"
  },
  "language_info": {
   "codemirror_mode": {
    "name": "ipython",
    "version": 3
   },
   "file_extension": ".py",
   "mimetype": "text/x-python",
   "name": "python",
   "nbconvert_exporter": "python",
   "pygments_lexer": "ipython3",
   "version": "3.7.3"
  }
 },
 "nbformat": 4,
 "nbformat_minor": 2
}
